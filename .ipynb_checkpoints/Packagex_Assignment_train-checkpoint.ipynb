{
 "cells": [
  {
   "cell_type": "code",
   "execution_count": null,
   "id": "1684d04f",
   "metadata": {},
   "outputs": [],
   "source": [
    "!pip install -qqq transformers==4.27.2 --progress-bar off\n",
    "!pip install -qqq pytorch-lightning==1.9.4 --progress-bar off\n",
    "!pip install -qqq torchmetrics==0.11.4 --progress-bar off\n",
    "!pip install -qqq imgkit==1.2.3 --progress-bar off\n",
    "!pip install -qqq easyocr==1.6.2 --progress-bar off\n",
    "!pip install -qqq Pillow==9.4.0 --progress-bar off\n",
    "!pip install -qqq tensorboardX==2.5.1 --progress-bar off\n",
    "# !pip install -qqq huggingface_hub==0.11.1 --progress-bar off\n",
    "!pip install -qqq --upgrade --no-cache-dir gdown"
   ]
  },
  {
   "cell_type": "code",
   "execution_count": null,
   "id": "fa6c8aee",
   "metadata": {},
   "outputs": [],
   "source": [
    "from transformers import LayoutLMv3FeatureExtractor, LayoutLMv3TokenizerFast, LayoutLMv3Processor, LayoutLMv3ForSequenceClassification\n",
    "from tqdm import tqdm\n",
    "import torch\n",
    "from torch.utils.data import Dataset, DataLoader\n",
    "import pytorch_lightning as pl\n",
    "from pytorch_lightning.callbacks import ModelCheckpoint\n",
    "from PIL import Image, ImageDraw, ImageFont\n",
    "import numpy as np\n",
    "from sklearn.model_selection import train_test_split\n",
    "import imgkit\n",
    "import easyocr\n",
    "import torchvision.transforms as T\n",
    "from pathlib import Path\n",
    "import matplotlib.pyplot as plt\n",
    "import os\n",
    "import cv2\n",
    "from typing import List\n",
    "import json\n",
    "from torchmetrics import Accuracy\n",
    "# from huggingface_hub import notebook_login\n",
    "from sklearn.metrics import confusion_matrix, ConfusionMatrixDisplay\n",
    "\n",
    "%matplotlib inline\n",
    "pl.seed_everything(42)"
   ]
  },
  {
   "cell_type": "code",
   "execution_count": null,
   "id": "462dd9c3",
   "metadata": {},
   "outputs": [],
   "source": [
    "from PIL import Image, ImageDraw, ImageFont\n",
    "image_paths = sorted(list(Path(\"images\").glob(\"*/*.png\")))\n",
    "\n",
    "image = Image.open(image_paths[0]).convert(\"RGB\")\n",
    "width, height = image.size\n",
    "image"
   ]
  },
  {
   "cell_type": "code",
   "execution_count": null,
   "id": "cf6e6422",
   "metadata": {},
   "outputs": [],
   "source": [
    "for image_path in tqdm(image_paths):\n",
    "    ocr_result = reader.readtext(str(image_path), batch_size=16)\n",
    "\n",
    "    ocr_page = []\n",
    "    for bbox, word, confidence in ocr_result:\n",
    "        ocr_page.append({\n",
    "            \"word\": word, \"bounding_box\": create_bounding_box(bbox)\n",
    "        })\n",
    "    \n",
    "    with image_path.with_suffix(\".json\").open(\"w\") as f:\n",
    "        json.dump(ocr_page, f)"
   ]
  },
  {
   "cell_type": "code",
   "execution_count": null,
   "id": "3f696add",
   "metadata": {},
   "outputs": [],
   "source": [
    "image_paths = sorted(list(Path(\"images\").glob(\"*/*.png\")))"
   ]
  },
  {
   "cell_type": "code",
   "execution_count": null,
   "id": "a3b773f1",
   "metadata": {},
   "outputs": [],
   "source": [
    "feature_extractor = LayoutLMv3FeatureExtractor(apply_ocr=False)\n",
    "tokenizer = LayoutLMv3TokenizerFast.from_pretrained(\"microsoft/layoutlmv3-base\")\n",
    "processor = LayoutLMv3Processor(feature_extractor, tokenizer)"
   ]
  },
  {
   "cell_type": "code",
   "execution_count": null,
   "id": "756f9c50",
   "metadata": {},
   "outputs": [],
   "source": [
    "print(f\"\"\"\n",
    "input_ids:  {list(encoding[\"input_ids\"].squeeze().shape)}\n",
    "word boxes: {list(encoding[\"bbox\"].squeeze().shape)}\n",
    "image data: {list(encoding[\"pixel_values\"].squeeze().shape)} \n",
    "image size: {image.size}\n",
    "\"\"\")"
   ]
  },
  {
   "cell_type": "code",
   "execution_count": null,
   "id": "539fadc4",
   "metadata": {},
   "outputs": [],
   "source": [
    "encoding = processor(\n",
    "    image, \n",
    "    words,\n",
    "    boxes=boxes,\n",
    "    max_length=512,\n",
    "    padding=\"max_length\",\n",
    "    truncation=True,\n",
    "    return_tensors=\"pt\"\n",
    ")\n",
    "\n",
    "outputs = model(**encoding)"
   ]
  },
  {
   "cell_type": "code",
   "execution_count": null,
   "id": "ae5f9ea7",
   "metadata": {},
   "outputs": [],
   "source": [
    "train_images, test_images = train_test_split(image_paths, test_size=.2)"
   ]
  },
  {
   "cell_type": "code",
   "execution_count": null,
   "id": "1ff44226",
   "metadata": {},
   "outputs": [],
   "source": [
    "DOCUMENT_CLASSES = sorted(list(map(lambda p: p.name, Path(\"images\").glob(\"*\"))))\n",
    "DOCUMENT_CLASSES"
   ]
  },
  {
   "cell_type": "code",
   "execution_count": null,
   "id": "8f96f5a2",
   "metadata": {},
   "outputs": [],
   "source": [
    "def scale_bounding_box(box: List[int], width_scale : float = 1.0, height_scale : float = 1.0) -> List[int]:\n",
    "    return [\n",
    "        int(box[0] * width_scale),\n",
    "        int(box[1] * height_scale),\n",
    "        int(box[2] * width_scale),\n",
    "        int(box[3] * height_scale)\n",
    "    ]"
   ]
  },
  {
   "cell_type": "code",
   "execution_count": null,
   "id": "e5021e07",
   "metadata": {},
   "outputs": [],
   "source": [
    "class DocumentClassificationDataset(Dataset):\n",
    "\n",
    "    def __init__(self, image_paths, processor):\n",
    "        self.image_paths = image_paths\n",
    "        self.processor = processor\n",
    "  \n",
    "    def __len__(self):\n",
    "        return len(self.image_paths)\n",
    "    \n",
    "    def __getitem__(self, item):\n",
    "\n",
    "        image_path = self.image_paths[item]\n",
    "        json_path = image_path.with_suffix(\".json\")\n",
    "        with json_path.open(\"r\") as f:\n",
    "            ocr_result = json.load(f)\n",
    "        \n",
    "            with Image.open(image_path).convert(\"RGB\") as image:\n",
    "    \n",
    "                width, height = image.size\n",
    "                width_scale = 1000 / width\n",
    "                height_scale = 1000 / height\n",
    "        \n",
    "                words = []\n",
    "                boxes = []\n",
    "                for row in ocr_result:\n",
    "                    boxes.append(scale_bounding_box(row[\"bounding_box\"], width_scale, height_scale))\n",
    "                    words.append(row[\"word\"])\n",
    "        \n",
    "                encoding = self.processor(\n",
    "                    image, \n",
    "                    words,\n",
    "                    boxes=boxes,\n",
    "                    max_length=512,\n",
    "                    padding=\"max_length\",\n",
    "                    truncation=True,\n",
    "                    return_tensors=\"pt\"\n",
    "                )\n",
    "        \n",
    "        label = DOCUMENT_CLASSES.index(image_path.parent.name)\n",
    "\n",
    "        return dict(\n",
    "            input_ids=encoding[\"input_ids\"].flatten(),\n",
    "            attention_mask=encoding[\"attention_mask\"].flatten(),\n",
    "            bbox=encoding[\"bbox\"].flatten(end_dim=1),\n",
    "            pixel_values=encoding[\"pixel_values\"].flatten(end_dim=1),\n",
    "            labels=torch.tensor(label, dtype=torch.long)\n",
    "        )"
   ]
  },
  {
   "cell_type": "code",
   "execution_count": null,
   "id": "a5613ea8",
   "metadata": {},
   "outputs": [],
   "source": [
    "train_dataset = DocumentClassificationDataset(train_images, processor)\n",
    "test_dataset = DocumentClassificationDataset(test_images, processor)"
   ]
  },
  {
   "cell_type": "code",
   "execution_count": null,
   "id": "14a436e5",
   "metadata": {},
   "outputs": [],
   "source": [
    "train_data_loader = DataLoader(\n",
    "    train_dataset,\n",
    "    batch_size=8,\n",
    "    shuffle=True,\n",
    "    num_workers=8\n",
    ")\n",
    "\n",
    "test_data_loader = DataLoader(\n",
    "    test_dataset,\n",
    "    batch_size=8,\n",
    "    shuffle=False,\n",
    "    num_workers=8\n",
    ")"
   ]
  },
  {
   "cell_type": "code",
   "execution_count": null,
   "id": "75052de0",
   "metadata": {},
   "outputs": [],
   "source": [
    "# from torch import nn\n",
    "\n",
    "# class ModelModule(nn.Module):\n",
    "class ModelModule(pl.LightningModule):\n",
    "    def __init__(self, n_classes:int):\n",
    "        super().__init__()\n",
    "        self.model = LayoutLMv3ForSequenceClassification.from_pretrained(\n",
    "            \"microsoft/layoutlmv3-base\", \n",
    "            num_labels=n_classes\n",
    "        )\n",
    "        self.model.config.id2label = {k: v for k, v in enumerate(DOCUMENT_CLASSES)}\n",
    "        self.model.config.label2id = {v: k for k, v in enumerate(DOCUMENT_CLASSES)}\n",
    "        self.train_accuracy = Accuracy(task=\"multiclass\", num_classes=n_classes)\n",
    "        self.val_accuracy = Accuracy(task=\"multiclass\", num_classes=n_classes)\n",
    "\n",
    "    def forward(self, input_ids, attention_mask, bbox, pixel_values, labels=None):\n",
    "        return self.model(\n",
    "            input_ids, \n",
    "            attention_mask=attention_mask,\n",
    "            bbox=bbox,\n",
    "            pixel_values=pixel_values,\n",
    "            labels=labels\n",
    "        )\n",
    "\n",
    "    def training_step(self, batch, batch_idx):\n",
    "        input_ids = batch[\"input_ids\"]\n",
    "        attention_mask = batch[\"attention_mask\"]\n",
    "        bbox = batch[\"bbox\"]\n",
    "        pixel_values = batch[\"pixel_values\"]\n",
    "        labels = batch[\"labels\"]\n",
    "        output = self(input_ids, attention_mask, bbox, pixel_values, labels)\n",
    "        self.log(\"train_loss\", output.loss)\n",
    "        self.log(\"train_acc\", self.train_accuracy(output.logits, labels), on_step=True, on_epoch=True)\n",
    "        return output.loss\n",
    "\n",
    "    def validation_step(self, batch, batch_idx):\n",
    "        input_ids = batch[\"input_ids\"]\n",
    "        attention_mask = batch[\"attention_mask\"]\n",
    "        bbox = batch[\"bbox\"]\n",
    "        pixel_values = batch[\"pixel_values\"]\n",
    "        labels = batch[\"labels\"]\n",
    "        output = self(input_ids, attention_mask, bbox, pixel_values, labels)\n",
    "        self.log(\"val_loss\", output.loss)\n",
    "        self.log(\"val_acc\", self.val_accuracy(output.logits, labels), on_step=False, on_epoch=True)\n",
    "        return output.loss\n",
    "\n",
    "    def configure_optimizers(self):\n",
    "        optimizer = torch.optim.Adam(self.model.parameters(), lr=0.00001) #1e-5\n",
    "        return optimizer"
   ]
  },
  {
   "cell_type": "code",
   "execution_count": null,
   "id": "1eec5d83",
   "metadata": {},
   "outputs": [],
   "source": [
    "model_module = ModelModule(len(DOCUMENT_CLASSES))"
   ]
  },
  {
   "cell_type": "code",
   "execution_count": null,
   "id": "e414d997",
   "metadata": {},
   "outputs": [],
   "source": [
    "import tensorboard\n",
    "%load_ext tensorboard\n",
    "%tensorboard --logdir lightning_logs"
   ]
  },
  {
   "cell_type": "code",
   "execution_count": null,
   "id": "422d6a8b",
   "metadata": {},
   "outputs": [],
   "source": [
    "model_checkpoint = ModelCheckpoint(\n",
    "    filename=\"{epoch}-{step}-{val_loss:.4f}\", save_last=True, save_top_k=3, monitor=\"val_loss\", mode=\"min\"\n",
    ")\n",
    "\n",
    "trainer = pl.Trainer(\n",
    "    accelerator=\"gpu\",\n",
    "    precision=16,\n",
    "    devices=1,\n",
    "    max_epochs=10,\n",
    "    callbacks=[\n",
    "        model_checkpoint\n",
    "    ],\n",
    ")"
   ]
  }
 ],
 "metadata": {
  "kernelspec": {
   "display_name": "Python 3 (ipykernel)",
   "language": "python",
   "name": "python3"
  },
  "language_info": {
   "codemirror_mode": {
    "name": "ipython",
    "version": 3
   },
   "file_extension": ".py",
   "mimetype": "text/x-python",
   "name": "python",
   "nbconvert_exporter": "python",
   "pygments_lexer": "ipython3",
   "version": "3.10.11"
  }
 },
 "nbformat": 4,
 "nbformat_minor": 5
}
